{
 "cells": [
  {
   "cell_type": "code",
   "execution_count": 2,
   "id": "40cc036d",
   "metadata": {},
   "outputs": [
    {
     "name": "stdout",
     "output_type": "stream",
     "text": [
      "Requirement already satisfied: qutip in c:\\users\\pourya\\anaconda3\\lib\\site-packages (5.0.2)\n",
      "Requirement already satisfied: scipy>=1.8 in c:\\users\\pourya\\anaconda3\\lib\\site-packages (from qutip) (1.13.1)\n",
      "Requirement already satisfied: packaging in c:\\users\\pourya\\anaconda3\\lib\\site-packages (from qutip) (21.0)\n",
      "Requirement already satisfied: numpy<2.0.0,>=1.22 in c:\\users\\pourya\\anaconda3\\lib\\site-packages (from qutip) (1.26.4)\n",
      "Requirement already satisfied: pyparsing>=2.0.2 in c:\\users\\pourya\\anaconda3\\lib\\site-packages (from packaging->qutip) (3.0.4)\n",
      "Note: you may need to restart the kernel to use updated packages.\n"
     ]
    }
   ],
   "source": [
    "pip install qutip"
   ]
  },
  {
   "cell_type": "code",
   "execution_count": 45,
   "id": "41b9d29c",
   "metadata": {},
   "outputs": [],
   "source": [
    "from qutip import *\n",
    "import numpy as np \n",
    "import matplotlib.pyplot as plt"
   ]
  },
  {
   "cell_type": "code",
   "execution_count": 4,
   "id": "d15fbbf9",
   "metadata": {},
   "outputs": [
    {
     "name": "stdout",
     "output_type": "stream",
     "text": [
      "Quantum object: dims=[[1], [1]], shape=(1, 1), type='scalar', dtype=Dense\n",
      "Qobj data =\n",
      "[[nan]]\n"
     ]
    }
   ],
   "source": [
    "print(Qobj())"
   ]
  },
  {
   "cell_type": "code",
   "execution_count": 6,
   "id": "e26f116d",
   "metadata": {},
   "outputs": [
    {
     "data": {
      "text/latex": [
       "Quantum object: dims=[[3], [1]], shape=(3, 1), type='ket', dtype=Dense$$\\left(\\begin{array}{cc}1\\\\0\\\\1\\end{array}\\right)$$"
      ],
      "text/plain": [
       "Quantum object: dims=[[3], [1]], shape=(3, 1), type='ket', dtype=Dense\n",
       "Qobj data =\n",
       "[[1.]\n",
       " [0.]\n",
       " [1.]]"
      ]
     },
     "execution_count": 6,
     "metadata": {},
     "output_type": "execute_result"
    }
   ],
   "source": [
    "ket=Qobj([[1],[0],[1]])\n",
    "ket"
   ]
  },
  {
   "cell_type": "code",
   "execution_count": 7,
   "id": "41ce4b88",
   "metadata": {},
   "outputs": [
    {
     "data": {
      "text/latex": [
       "Quantum object: dims=[[1], [4]], shape=(1, 4), type='bra', dtype=Dense$$\\left(\\begin{array}{cc}1 & 0 & 1 & 1\\end{array}\\right)$$"
      ],
      "text/plain": [
       "Quantum object: dims=[[1], [4]], shape=(1, 4), type='bra', dtype=Dense\n",
       "Qobj data =\n",
       "[[1. 0. 1. 1.]]"
      ]
     },
     "execution_count": 7,
     "metadata": {},
     "output_type": "execute_result"
    }
   ],
   "source": [
    "bra=Qobj([[1,0,1,1]])\n",
    "bra"
   ]
  },
  {
   "cell_type": "code",
   "execution_count": 9,
   "id": "d99fed02",
   "metadata": {},
   "outputs": [
    {
     "name": "stdout",
     "output_type": "stream",
     "text": [
      "Quantum object: dims=[[1], [4]], shape=(1, 4), type='bra', dtype=Dense\n",
      "Qobj data =\n",
      "[[1. 0. 1. 1.]]\n",
      "Quantum object: dims=[[3], [1]], shape=(3, 1), type='ket', dtype=Dense\n",
      "Qobj data =\n",
      "[[1.]\n",
      " [0.]\n",
      " [1.]]\n"
     ]
    },
    {
     "data": {
      "text/plain": [
       "(None, None)"
      ]
     },
     "execution_count": 9,
     "metadata": {},
     "output_type": "execute_result"
    }
   ],
   "source": [
    "print(bra),print(ket)"
   ]
  },
  {
   "cell_type": "code",
   "execution_count": 12,
   "id": "a291eeb9",
   "metadata": {},
   "outputs": [
    {
     "data": {
      "text/plain": [
       "([[3], [1]], (3, 1), 'ket')"
      ]
     },
     "execution_count": 12,
     "metadata": {},
     "output_type": "execute_result"
    }
   ],
   "source": [
    "ket.dims , ket.shape ,ket.type"
   ]
  },
  {
   "cell_type": "code",
   "execution_count": 13,
   "id": "0319c410",
   "metadata": {},
   "outputs": [
    {
     "data": {
      "text/latex": [
       "Quantum object: dims=[[2], [2]], shape=(2, 2), type='oper', dtype=Dense, isherm=True$$\\left(\\begin{array}{cc}0 & -1j\\\\1j & 0\\end{array}\\right)$$"
      ],
      "text/plain": [
       "Quantum object: dims=[[2], [2]], shape=(2, 2), type='oper', dtype=Dense, isherm=True\n",
       "Qobj data =\n",
       "[[ 0.+0.j -0.-1.j]\n",
       " [ 0.+1.j  0.+0.j]]"
      ]
     },
     "execution_count": 13,
     "metadata": {},
     "output_type": "execute_result"
    }
   ],
   "source": [
    "psy = Qobj([[0,-1j],[1j,0]])\n",
    "psy"
   ]
  },
  {
   "cell_type": "code",
   "execution_count": 14,
   "id": "f12a9e20",
   "metadata": {},
   "outputs": [
    {
     "data": {
      "text/latex": [
       "Quantum object: dims=[[2], [2]], shape=(2, 2), type='oper', dtype=Dense, isherm=True$$\\left(\\begin{array}{cc}0 & -1j\\\\1j & 0\\end{array}\\right)$$"
      ],
      "text/plain": [
       "Quantum object: dims=[[2], [2]], shape=(2, 2), type='oper', dtype=Dense, isherm=True\n",
       "Qobj data =\n",
       "[[ 0.+0.j -0.-1.j]\n",
       " [ 0.+1.j  0.+0.j]]"
      ]
     },
     "execution_count": 14,
     "metadata": {},
     "output_type": "execute_result"
    }
   ],
   "source": [
    "psy.dag()"
   ]
  },
  {
   "cell_type": "code",
   "execution_count": 15,
   "id": "e2c3f77f",
   "metadata": {},
   "outputs": [
    {
     "data": {
      "text/latex": [
       "Quantum object: dims=[[2], [2]], shape=(2, 2), type='oper', dtype=Dense, isherm=False$$\\left(\\begin{array}{cc}0 & 0\\\\1j & 0\\end{array}\\right)$$"
      ],
      "text/plain": [
       "Quantum object: dims=[[2], [2]], shape=(2, 2), type='oper', dtype=Dense, isherm=False\n",
       "Qobj data =\n",
       "[[0.+0.j 0.+0.j]\n",
       " [0.+1.j 0.+0.j]]"
      ]
     },
     "execution_count": 15,
     "metadata": {},
     "output_type": "execute_result"
    }
   ],
   "source": [
    "psy = Qobj([[0,0],[1j,0]])\n",
    "psy"
   ]
  },
  {
   "cell_type": "code",
   "execution_count": 16,
   "id": "13acb46b",
   "metadata": {},
   "outputs": [
    {
     "data": {
      "text/latex": [
       "Quantum object: dims=[[2], [2]], shape=(2, 2), type='oper', dtype=Dense, isherm=False$$\\left(\\begin{array}{cc}0 & -1j\\\\0 & 0\\end{array}\\right)$$"
      ],
      "text/plain": [
       "Quantum object: dims=[[2], [2]], shape=(2, 2), type='oper', dtype=Dense, isherm=False\n",
       "Qobj data =\n",
       "[[0.-0.j 0.-1.j]\n",
       " [0.-0.j 0.-0.j]]"
      ]
     },
     "execution_count": 16,
     "metadata": {},
     "output_type": "execute_result"
    }
   ],
   "source": [
    "psy.dag()"
   ]
  },
  {
   "cell_type": "code",
   "execution_count": 18,
   "id": "38448fe4",
   "metadata": {},
   "outputs": [
    {
     "data": {
      "text/latex": [
       "Quantum object: dims=[[2], [2]], shape=(2, 2), type='oper', dtype=Dense, isherm=False$$\\left(\\begin{array}{cc}3 & 2\\\\1j & 1\\end{array}\\right)$$"
      ],
      "text/plain": [
       "Quantum object: dims=[[2], [2]], shape=(2, 2), type='oper', dtype=Dense, isherm=False\n",
       "Qobj data =\n",
       "[[3.+0.j 2.+0.j]\n",
       " [0.+1.j 1.+0.j]]"
      ]
     },
     "execution_count": 18,
     "metadata": {},
     "output_type": "execute_result"
    }
   ],
   "source": [
    "psy = Qobj([[3,2],[1j,1]])\n",
    "psy"
   ]
  },
  {
   "cell_type": "code",
   "execution_count": 19,
   "id": "32507123",
   "metadata": {},
   "outputs": [
    {
     "data": {
      "text/plain": [
       "(4+0j)"
      ]
     },
     "execution_count": 19,
     "metadata": {},
     "output_type": "execute_result"
    }
   ],
   "source": [
    "psy.tr()"
   ]
  },
  {
   "cell_type": "code",
   "execution_count": 20,
   "id": "97a42b1d",
   "metadata": {},
   "outputs": [
    {
     "data": {
      "text/latex": [
       "Quantum object: dims=[[2], [1]], shape=(2, 1), type='ket', dtype=Dense$$\\left(\\begin{array}{cc}1\\\\0\\end{array}\\right)$$"
      ],
      "text/plain": [
       "Quantum object: dims=[[2], [1]], shape=(2, 1), type='ket', dtype=Dense\n",
       "Qobj data =\n",
       "[[1.]\n",
       " [0.]]"
      ]
     },
     "execution_count": 20,
     "metadata": {},
     "output_type": "execute_result"
    }
   ],
   "source": [
    "ket0=basis(2,0)\n",
    "ket0"
   ]
  },
  {
   "cell_type": "code",
   "execution_count": 21,
   "id": "2be120a2",
   "metadata": {},
   "outputs": [
    {
     "data": {
      "text/latex": [
       "Quantum object: dims=[[2], [1]], shape=(2, 1), type='ket', dtype=Dense$$\\left(\\begin{array}{cc}0\\\\1\\end{array}\\right)$$"
      ],
      "text/plain": [
       "Quantum object: dims=[[2], [1]], shape=(2, 1), type='ket', dtype=Dense\n",
       "Qobj data =\n",
       "[[0.]\n",
       " [1.]]"
      ]
     },
     "execution_count": 21,
     "metadata": {},
     "output_type": "execute_result"
    }
   ],
   "source": [
    "ket1=basis(2,1)\n",
    "ket1"
   ]
  },
  {
   "cell_type": "code",
   "execution_count": 23,
   "id": "9fbfad38",
   "metadata": {},
   "outputs": [
    {
     "data": {
      "text/latex": [
       "Quantum object: dims=[[5], [1]], shape=(5, 1), type='ket', dtype=Dense$$\\left(\\begin{array}{cc}0\\\\0\\\\1\\\\0\\\\0\\end{array}\\right)$$"
      ],
      "text/plain": [
       "Quantum object: dims=[[5], [1]], shape=(5, 1), type='ket', dtype=Dense\n",
       "Qobj data =\n",
       "[[0.]\n",
       " [0.]\n",
       " [1.]\n",
       " [0.]\n",
       " [0.]]"
      ]
     },
     "execution_count": 23,
     "metadata": {},
     "output_type": "execute_result"
    }
   ],
   "source": [
    "fock(5,2)"
   ]
  },
  {
   "cell_type": "code",
   "execution_count": 24,
   "id": "d5b0affd",
   "metadata": {},
   "outputs": [
    {
     "data": {
      "text/latex": [
       "Quantum object: dims=[[5], [1]], shape=(5, 1), type='ket', dtype=Dense$$\\left(\\begin{array}{cc}0.607\\\\0.606\\\\0.430\\\\0.241\\\\0.146\\end{array}\\right)$$"
      ],
      "text/plain": [
       "Quantum object: dims=[[5], [1]], shape=(5, 1), type='ket', dtype=Dense\n",
       "Qobj data =\n",
       "[[0.60655682]\n",
       " [0.60628133]\n",
       " [0.4303874 ]\n",
       " [0.24104351]\n",
       " [0.14552147]]"
      ]
     },
     "execution_count": 24,
     "metadata": {},
     "output_type": "execute_result"
    }
   ],
   "source": [
    "coherent(N=5,alpha=1)"
   ]
  },
  {
   "cell_type": "code",
   "execution_count": 30,
   "id": "19b28be2",
   "metadata": {},
   "outputs": [
    {
     "data": {
      "text/latex": [
       "Quantum object: dims=[[2], [2]], shape=(2, 2), type='oper', dtype=CSR, isherm=False$$\\left(\\begin{array}{cc}0 & 0\\\\1 & 0\\end{array}\\right)$$"
      ],
      "text/plain": [
       "Quantum object: dims=[[2], [2]], shape=(2, 2), type='oper', dtype=CSR, isherm=False\n",
       "Qobj data =\n",
       "[[0. 0.]\n",
       " [1. 0.]]"
      ]
     },
     "execution_count": 30,
     "metadata": {},
     "output_type": "execute_result"
    }
   ],
   "source": [
    "m=sigmam()\n",
    "m"
   ]
  },
  {
   "cell_type": "code",
   "execution_count": 27,
   "id": "3d1dbdcb",
   "metadata": {},
   "outputs": [
    {
     "data": {
      "text/latex": [
       "Quantum object: dims=[[2], [2]], shape=(2, 2), type='oper', dtype=CSR, isherm=False$$\\left(\\begin{array}{cc}0 & 1\\\\0 & 0\\end{array}\\right)$$"
      ],
      "text/plain": [
       "Quantum object: dims=[[2], [2]], shape=(2, 2), type='oper', dtype=CSR, isherm=False\n",
       "Qobj data =\n",
       "[[0. 1.]\n",
       " [0. 0.]]"
      ]
     },
     "execution_count": 27,
     "metadata": {},
     "output_type": "execute_result"
    }
   ],
   "source": [
    "p=sigmap()\n",
    "p"
   ]
  },
  {
   "cell_type": "code",
   "execution_count": 31,
   "id": "2c7efd43",
   "metadata": {},
   "outputs": [
    {
     "data": {
      "text/latex": [
       "Quantum object: dims=[[2], [2]], shape=(2, 2), type='oper', dtype=CSR, isherm=True$$\\left(\\begin{array}{cc}0 & 1\\\\1 & 0\\end{array}\\right)$$"
      ],
      "text/plain": [
       "Quantum object: dims=[[2], [2]], shape=(2, 2), type='oper', dtype=CSR, isherm=True\n",
       "Qobj data =\n",
       "[[0. 1.]\n",
       " [1. 0.]]"
      ]
     },
     "execution_count": 31,
     "metadata": {},
     "output_type": "execute_result"
    }
   ],
   "source": [
    "sigmax()"
   ]
  },
  {
   "cell_type": "code",
   "execution_count": 32,
   "id": "b3438388",
   "metadata": {},
   "outputs": [
    {
     "data": {
      "text/latex": [
       "Quantum object: dims=[[2], [2]], shape=(2, 2), type='oper', dtype=CSR, isherm=True$$\\left(\\begin{array}{cc}0 & -1j\\\\1j & 0\\end{array}\\right)$$"
      ],
      "text/plain": [
       "Quantum object: dims=[[2], [2]], shape=(2, 2), type='oper', dtype=CSR, isherm=True\n",
       "Qobj data =\n",
       "[[0.+0.j 0.-1.j]\n",
       " [0.+1.j 0.+0.j]]"
      ]
     },
     "execution_count": 32,
     "metadata": {},
     "output_type": "execute_result"
    }
   ],
   "source": [
    "sigmay()"
   ]
  },
  {
   "cell_type": "code",
   "execution_count": 33,
   "id": "1a8d66a7",
   "metadata": {},
   "outputs": [
    {
     "data": {
      "text/latex": [
       "Quantum object: dims=[[2], [2]], shape=(2, 2), type='oper', dtype=CSR, isherm=True$$\\left(\\begin{array}{cc}1 & 0\\\\0 & -1\\end{array}\\right)$$"
      ],
      "text/plain": [
       "Quantum object: dims=[[2], [2]], shape=(2, 2), type='oper', dtype=CSR, isherm=True\n",
       "Qobj data =\n",
       "[[ 1.  0.]\n",
       " [ 0. -1.]]"
      ]
     },
     "execution_count": 33,
     "metadata": {},
     "output_type": "execute_result"
    }
   ],
   "source": [
    "sigmaz()"
   ]
  },
  {
   "cell_type": "code",
   "execution_count": 36,
   "id": "600d6a88",
   "metadata": {},
   "outputs": [
    {
     "data": {
      "text/latex": [
       "Quantum object: dims=[[3], [3]], shape=(3, 3), type='oper', dtype=Dia, isherm=True$$\\left(\\begin{array}{cc}1 & 0 & 0\\\\0 & 1 & 0\\\\0 & 0 & 1\\end{array}\\right)$$"
      ],
      "text/plain": [
       "Quantum object: dims=[[3], [3]], shape=(3, 3), type='oper', dtype=Dia, isherm=True\n",
       "Qobj data =\n",
       "[[1. 0. 0.]\n",
       " [0. 1. 0.]\n",
       " [0. 0. 1.]]"
      ]
     },
     "execution_count": 36,
     "metadata": {},
     "output_type": "execute_result"
    }
   ],
   "source": [
    "qeye(3)"
   ]
  },
  {
   "cell_type": "code",
   "execution_count": 38,
   "id": "e79a323d",
   "metadata": {},
   "outputs": [
    {
     "data": {
      "text/latex": [
       "Quantum object: dims=[[4], [4]], shape=(4, 4), type='oper', dtype=Dia, isherm=False$$\\left(\\begin{array}{cc}0 & 1 & 0 & 0\\\\0 & 0 & 1.414 & 0\\\\0 & 0 & 0 & 1.732\\\\0 & 0 & 0 & 0\\end{array}\\right)$$"
      ],
      "text/plain": [
       "Quantum object: dims=[[4], [4]], shape=(4, 4), type='oper', dtype=Dia, isherm=False\n",
       "Qobj data =\n",
       "[[0.         1.         0.         0.        ]\n",
       " [0.         0.         1.41421356 0.        ]\n",
       " [0.         0.         0.         1.73205081]\n",
       " [0.         0.         0.         0.        ]]"
      ]
     },
     "execution_count": 38,
     "metadata": {},
     "output_type": "execute_result"
    }
   ],
   "source": [
    "destroy(4)"
   ]
  },
  {
   "cell_type": "code",
   "execution_count": 42,
   "id": "37d06ec3",
   "metadata": {},
   "outputs": [
    {
     "data": {
      "text/latex": [
       "Quantum object: dims=[[4], [4]], shape=(4, 4), type='oper', dtype=Dia, isherm=False$$\\left(\\begin{array}{cc}0 & 1 & 0 & 0\\\\0 & 0 & 1.414 & 0\\\\0 & 0 & 0 & 1.732\\\\0 & 0 & 0 & 0\\end{array}\\right)$$"
      ],
      "text/plain": [
       "Quantum object: dims=[[4], [4]], shape=(4, 4), type='oper', dtype=Dia, isherm=False\n",
       "Qobj data =\n",
       "[[0.         1.         0.         0.        ]\n",
       " [0.         0.         1.41421356 0.        ]\n",
       " [0.         0.         0.         1.73205081]\n",
       " [0.         0.         0.         0.        ]]"
      ]
     },
     "execution_count": 42,
     "metadata": {},
     "output_type": "execute_result"
    }
   ],
   "source": [
    "create(4)"
   ]
  },
  {
   "cell_type": "code",
   "execution_count": 47,
   "id": "188002ee",
   "metadata": {},
   "outputs": [
    {
     "data": {
      "text/latex": [
       "Quantum object: dims=[[4], [4]], shape=(4, 4), type='oper', dtype=Dia, isherm=True$$\\left(\\begin{array}{cc}0 & 0.707 & 0 & 0\\\\0.707 & 0 & 1 & 0\\\\0 & 1 & 0 & 1.225\\\\0 & 0 & 1.225 & 0\\end{array}\\right)$$"
      ],
      "text/plain": [
       "Quantum object: dims=[[4], [4]], shape=(4, 4), type='oper', dtype=Dia, isherm=True\n",
       "Qobj data =\n",
       "[[0.         0.70710678 0.         0.        ]\n",
       " [0.70710678 0.         1.         0.        ]\n",
       " [0.         1.         0.         1.22474487]\n",
       " [0.         0.         1.22474487 0.        ]]"
      ]
     },
     "execution_count": 47,
     "metadata": {},
     "output_type": "execute_result"
    }
   ],
   "source": [
    "a = destroy(4)\n",
    "x = (a+a.dag())/np.sqrt(2)\n",
    "x"
   ]
  },
  {
   "cell_type": "code",
   "execution_count": 48,
   "id": "4ac026ce",
   "metadata": {},
   "outputs": [
    {
     "data": {
      "text/latex": [
       "Quantum object: dims=[[4], [4]], shape=(4, 4), type='oper', dtype=Dia, isherm=True$$\\left(\\begin{array}{cc}0 & 0.707 & 0 & 0\\\\0.707 & 0 & 1 & 0\\\\0 & 1 & 0 & 1.225\\\\0 & 0 & 1.225 & 0\\end{array}\\right)$$"
      ],
      "text/plain": [
       "Quantum object: dims=[[4], [4]], shape=(4, 4), type='oper', dtype=Dia, isherm=True\n",
       "Qobj data =\n",
       "[[0.         0.70710678 0.         0.        ]\n",
       " [0.70710678 0.         1.         0.        ]\n",
       " [0.         1.         0.         1.22474487]\n",
       " [0.         0.         1.22474487 0.        ]]"
      ]
     },
     "execution_count": 48,
     "metadata": {},
     "output_type": "execute_result"
    }
   ],
   "source": [
    "position(4)"
   ]
  },
  {
   "cell_type": "code",
   "execution_count": 50,
   "id": "771e0c7c",
   "metadata": {},
   "outputs": [
    {
     "data": {
      "text/latex": [
       "Quantum object: dims=[[4], [4]], shape=(4, 4), type='oper', dtype=Dia, isherm=True$$\\left(\\begin{array}{cc}0 & -0.707j & 0 & 0\\\\0.707j & 0 & -1j & 0\\\\0 & 1j & 0 & -1.225j\\\\0 & 0 & 1.225j & 0\\end{array}\\right)$$"
      ],
      "text/plain": [
       "Quantum object: dims=[[4], [4]], shape=(4, 4), type='oper', dtype=Dia, isherm=True\n",
       "Qobj data =\n",
       "[[0.+0.j         0.-0.70710678j 0.+0.j         0.+0.j        ]\n",
       " [0.+0.70710678j 0.+0.j         0.-1.j         0.+0.j        ]\n",
       " [0.+0.j         0.+1.j         0.+0.j         0.-1.22474487j]\n",
       " [0.+0.j         0.+0.j         0.+1.22474487j 0.+0.j        ]]"
      ]
     },
     "execution_count": 50,
     "metadata": {},
     "output_type": "execute_result"
    }
   ],
   "source": [
    "p = -1j*(a-a.dag())/np.sqrt(2)\n",
    "p"
   ]
  },
  {
   "cell_type": "code",
   "execution_count": 51,
   "id": "02f4c130",
   "metadata": {},
   "outputs": [
    {
     "data": {
      "text/latex": [
       "Quantum object: dims=[[4], [4]], shape=(4, 4), type='oper', dtype=Dia, isherm=True$$\\left(\\begin{array}{cc}0 & -0.707j & 0 & 0\\\\0.707j & 0 & -1j & 0\\\\0 & 1j & 0 & -1.225j\\\\0 & 0 & 1.225j & 0\\end{array}\\right)$$"
      ],
      "text/plain": [
       "Quantum object: dims=[[4], [4]], shape=(4, 4), type='oper', dtype=Dia, isherm=True\n",
       "Qobj data =\n",
       "[[0.+0.j         0.-0.70710678j 0.+0.j         0.+0.j        ]\n",
       " [0.+0.70710678j 0.+0.j         0.-1.j         0.+0.j        ]\n",
       " [0.+0.j         0.+1.j         0.+0.j         0.-1.22474487j]\n",
       " [0.+0.j         0.+0.j         0.+1.22474487j 0.+0.j        ]]"
      ]
     },
     "execution_count": 51,
     "metadata": {},
     "output_type": "execute_result"
    }
   ],
   "source": [
    "momentum(4)"
   ]
  },
  {
   "cell_type": "code",
   "execution_count": 52,
   "id": "1f55077b",
   "metadata": {},
   "outputs": [
    {
     "data": {
      "text/latex": [
       "Quantum object: dims=[[4], [4]], shape=(4, 4), type='oper', dtype=Dia, isherm=True$$\\left(\\begin{array}{cc}0 & 0 & 0 & 0\\\\0 & 1 & 0 & 0\\\\0 & 0 & 2 & 0\\\\0 & 0 & 0 & 3.000\\end{array}\\right)$$"
      ],
      "text/plain": [
       "Quantum object: dims=[[4], [4]], shape=(4, 4), type='oper', dtype=Dia, isherm=True\n",
       "Qobj data =\n",
       "[[0. 0. 0. 0.]\n",
       " [0. 1. 0. 0.]\n",
       " [0. 0. 2. 0.]\n",
       " [0. 0. 0. 3.]]"
      ]
     },
     "execution_count": 52,
     "metadata": {},
     "output_type": "execute_result"
    }
   ],
   "source": [
    "n = a.dag()*a\n",
    "n"
   ]
  },
  {
   "cell_type": "code",
   "execution_count": 53,
   "id": "67ffbd79",
   "metadata": {},
   "outputs": [
    {
     "data": {
      "text/latex": [
       "Quantum object: dims=[[4], [4]], shape=(4, 4), type='oper', dtype=Dia, isherm=True$$\\left(\\begin{array}{cc}0 & 0 & 0 & 0\\\\0 & 1 & 0 & 0\\\\0 & 0 & 2 & 0\\\\0 & 0 & 0 & 3\\end{array}\\right)$$"
      ],
      "text/plain": [
       "Quantum object: dims=[[4], [4]], shape=(4, 4), type='oper', dtype=Dia, isherm=True\n",
       "Qobj data =\n",
       "[[0. 0. 0. 0.]\n",
       " [0. 1. 0. 0.]\n",
       " [0. 0. 2. 0.]\n",
       " [0. 0. 0. 3.]]"
      ]
     },
     "execution_count": 53,
     "metadata": {},
     "output_type": "execute_result"
    }
   ],
   "source": [
    "num(4)"
   ]
  },
  {
   "cell_type": "code",
   "execution_count": 54,
   "id": "85c65526",
   "metadata": {},
   "outputs": [
    {
     "data": {
      "text/latex": [
       "Quantum object: dims=[[1], [2]], shape=(1, 2), type='bra', dtype=Dense$$\\left(\\begin{array}{cc}1 & 0\\end{array}\\right)$$"
      ],
      "text/plain": [
       "Quantum object: dims=[[1], [2]], shape=(1, 2), type='bra', dtype=Dense\n",
       "Qobj data =\n",
       "[[1. 0.]]"
      ]
     },
     "execution_count": 54,
     "metadata": {},
     "output_type": "execute_result"
    }
   ],
   "source": [
    "basis(2,0).dag()"
   ]
  },
  {
   "cell_type": "code",
   "execution_count": 55,
   "id": "80a1b873",
   "metadata": {},
   "outputs": [
    {
     "data": {
      "text/latex": [
       "Quantum object: dims=[[2], [2]], shape=(2, 2), type='oper', dtype=CSR, isherm=False$$\\left(\\begin{array}{cc}-2j & 0\\\\0 & 2j\\end{array}\\right)$$"
      ],
      "text/plain": [
       "Quantum object: dims=[[2], [2]], shape=(2, 2), type='oper', dtype=CSR, isherm=False\n",
       "Qobj data =\n",
       "[[0.-2.j 0.+0.j]\n",
       " [0.+0.j 0.+2.j]]"
      ]
     },
     "execution_count": 55,
     "metadata": {},
     "output_type": "execute_result"
    }
   ],
   "source": [
    "commutator(sigmay(),sigmax())"
   ]
  },
  {
   "cell_type": "code",
   "execution_count": 56,
   "id": "f951917d",
   "metadata": {},
   "outputs": [
    {
     "data": {
      "text/latex": [
       "Quantum object: dims=[[2], [2]], shape=(2, 2), type='oper', dtype=CSR, isherm=False$$\\left(\\begin{array}{cc}2j & 0\\\\0 & -2j\\end{array}\\right)$$"
      ],
      "text/plain": [
       "Quantum object: dims=[[2], [2]], shape=(2, 2), type='oper', dtype=CSR, isherm=False\n",
       "Qobj data =\n",
       "[[0.+2.j 0.+0.j]\n",
       " [0.+0.j 0.-2.j]]"
      ]
     },
     "execution_count": 56,
     "metadata": {},
     "output_type": "execute_result"
    }
   ],
   "source": [
    "commutator(sigmax(),sigmay())"
   ]
  },
  {
   "cell_type": "code",
   "execution_count": 58,
   "id": "ca50675d",
   "metadata": {},
   "outputs": [
    {
     "data": {
      "text/latex": [
       "Quantum object: dims=[[2], [2]], shape=(2, 2), type='oper', dtype=CSR, isherm=False$$\\left(\\begin{array}{cc}0 & 2j\\\\2j & 0\\end{array}\\right)$$"
      ],
      "text/plain": [
       "Quantum object: dims=[[2], [2]], shape=(2, 2), type='oper', dtype=CSR, isherm=False\n",
       "Qobj data =\n",
       "[[0.+0.j 0.+2.j]\n",
       " [0.+2.j 0.+0.j]]"
      ]
     },
     "execution_count": 58,
     "metadata": {},
     "output_type": "execute_result"
    }
   ],
   "source": [
    "commutator(sigmay(),sigmaz())"
   ]
  },
  {
   "cell_type": "code",
   "execution_count": 61,
   "id": "a3bb4bfc",
   "metadata": {},
   "outputs": [],
   "source": [
    "x = destroy(4)\n",
    "y = sigmay()"
   ]
  },
  {
   "cell_type": "code",
   "execution_count": 62,
   "id": "1a606db6",
   "metadata": {},
   "outputs": [
    {
     "data": {
      "text/latex": [
       "Quantum object: dims=[[2], [2]], shape=(2, 2), type='oper', dtype=CSR, isherm=True$$\\left(\\begin{array}{cc}0 & -1j\\\\1j & 0\\end{array}\\right)$$"
      ],
      "text/plain": [
       "Quantum object: dims=[[2], [2]], shape=(2, 2), type='oper', dtype=CSR, isherm=True\n",
       "Qobj data =\n",
       "[[0.+0.j 0.-1.j]\n",
       " [0.+1.j 0.+0.j]]"
      ]
     },
     "execution_count": 62,
     "metadata": {},
     "output_type": "execute_result"
    }
   ],
   "source": [
    "y"
   ]
  },
  {
   "cell_type": "code",
   "execution_count": 65,
   "id": "a4e2d942",
   "metadata": {},
   "outputs": [
    {
     "data": {
      "text/latex": [
       "Quantum object: dims=[[4], [4]], shape=(4, 4), type='oper', dtype=Dia, isherm=False$$\\left(\\begin{array}{cc}0 & 0 & 0 & 2.449\\\\0 & 0 & 0 & 0\\\\0 & 0 & 0 & 0\\\\0 & 0 & 0 & 0\\end{array}\\right)$$"
      ],
      "text/plain": [
       "Quantum object: dims=[[4], [4]], shape=(4, 4), type='oper', dtype=Dia, isherm=False\n",
       "Qobj data =\n",
       "[[0.         0.         0.         2.44948974]\n",
       " [0.         0.         0.         0.        ]\n",
       " [0.         0.         0.         0.        ]\n",
       " [0.         0.         0.         0.        ]]"
      ]
     },
     "execution_count": 65,
     "metadata": {},
     "output_type": "execute_result"
    }
   ],
   "source": [
    "x**3"
   ]
  },
  {
   "cell_type": "code",
   "execution_count": 66,
   "id": "5b934e66",
   "metadata": {},
   "outputs": [
    {
     "data": {
      "text/latex": [
       "Quantum object: dims=[[2], [2]], shape=(2, 2), type='oper', dtype=CSR, isherm=True$$\\left(\\begin{array}{cc}1 & 0\\\\0 & 1\\end{array}\\right)$$"
      ],
      "text/plain": [
       "Quantum object: dims=[[2], [2]], shape=(2, 2), type='oper', dtype=CSR, isherm=True\n",
       "Qobj data =\n",
       "[[1. 0.]\n",
       " [0. 1.]]"
      ]
     },
     "execution_count": 66,
     "metadata": {},
     "output_type": "execute_result"
    }
   ],
   "source": [
    "y**2"
   ]
  },
  {
   "cell_type": "code",
   "execution_count": 74,
   "id": "6cc6b527",
   "metadata": {},
   "outputs": [
    {
     "data": {
      "text/plain": [
       "(False, False)"
      ]
     },
     "execution_count": 74,
     "metadata": {},
     "output_type": "execute_result"
    }
   ],
   "source": [
    "x.isherm,x.check_herm()"
   ]
  },
  {
   "cell_type": "code",
   "execution_count": 75,
   "id": "b122f4d5",
   "metadata": {},
   "outputs": [
    {
     "data": {
      "text/latex": [
       "Quantum object: dims=[[4], [4]], shape=(4, 4), type='oper', dtype=Dia, isherm=False$$\\left(\\begin{array}{cc}0 & 1 & 0 & 0\\\\0 & 0 & 1.414 & 0\\\\0 & 0 & 0 & 1.732\\\\0 & 0 & 0 & 0\\end{array}\\right)$$"
      ],
      "text/plain": [
       "Quantum object: dims=[[4], [4]], shape=(4, 4), type='oper', dtype=Dia, isherm=False\n",
       "Qobj data =\n",
       "[[0.         1.         0.         0.        ]\n",
       " [0.         0.         1.41421356 0.        ]\n",
       " [0.         0.         0.         1.73205081]\n",
       " [0.         0.         0.         0.        ]]"
      ]
     },
     "execution_count": 75,
     "metadata": {},
     "output_type": "execute_result"
    }
   ],
   "source": [
    "x.conj()"
   ]
  },
  {
   "cell_type": "code",
   "execution_count": 76,
   "id": "d256a36e",
   "metadata": {},
   "outputs": [
    {
     "data": {
      "text/latex": [
       "Quantum object: dims=[[4], [4]], shape=(4, 4), type='oper', dtype=Dia, isherm=False$$\\left(\\begin{array}{cc}0 & 0 & 0 & 0\\\\1 & 0 & 0 & 0\\\\0 & 1.414 & 0 & 0\\\\0 & 0 & 1.732 & 0\\end{array}\\right)$$"
      ],
      "text/plain": [
       "Quantum object: dims=[[4], [4]], shape=(4, 4), type='oper', dtype=Dia, isherm=False\n",
       "Qobj data =\n",
       "[[0.         0.         0.         0.        ]\n",
       " [1.         0.         0.         0.        ]\n",
       " [0.         1.41421356 0.         0.        ]\n",
       " [0.         0.         1.73205081 0.        ]]"
      ]
     },
     "execution_count": 76,
     "metadata": {},
     "output_type": "execute_result"
    }
   ],
   "source": [
    "x.dag()"
   ]
  },
  {
   "cell_type": "code",
   "execution_count": 77,
   "id": "429f678e",
   "metadata": {},
   "outputs": [
    {
     "data": {
      "text/plain": [
       "array([0., 0.])"
      ]
     },
     "execution_count": 77,
     "metadata": {},
     "output_type": "execute_result"
    }
   ],
   "source": [
    "y.diag()"
   ]
  },
  {
   "cell_type": "code",
   "execution_count": 79,
   "id": "fab26b96",
   "metadata": {},
   "outputs": [
    {
     "data": {
      "text/plain": [
       "array([-1.,  1.])"
      ]
     },
     "execution_count": 79,
     "metadata": {},
     "output_type": "execute_result"
    }
   ],
   "source": [
    "y.eigenenergies()"
   ]
  },
  {
   "cell_type": "code",
   "execution_count": 80,
   "id": "5c2c7f32",
   "metadata": {},
   "outputs": [
    {
     "data": {
      "text/plain": [
       "(array([-1.,  1.]),\n",
       " array([Quantum object: dims=[[2], [1]], shape=(2, 1), type='ket', dtype=Dense\n",
       "        Qobj data =\n",
       "        [[-0.70710678+0.j        ]\n",
       "         [ 0.        +0.70710678j]]                                           ,\n",
       "        Quantum object: dims=[[2], [1]], shape=(2, 1), type='ket', dtype=Dense\n",
       "        Qobj data =\n",
       "        [[-0.70710678+0.j        ]\n",
       "         [ 0.        -0.70710678j]]                                           ],\n",
       "       dtype=object))"
      ]
     },
     "execution_count": 80,
     "metadata": {},
     "output_type": "execute_result"
    }
   ],
   "source": [
    "y.eigenstates()"
   ]
  },
  {
   "cell_type": "code",
   "execution_count": 81,
   "id": "f130d493",
   "metadata": {},
   "outputs": [
    {
     "data": {
      "text/latex": [
       "Quantum object: dims=[[2], [2]], shape=(2, 2), type='oper', dtype=Dense, isherm=True$$\\left(\\begin{array}{cc}1.543 & -1.175j\\\\1.175j & 1.543\\end{array}\\right)$$"
      ],
      "text/plain": [
       "Quantum object: dims=[[2], [2]], shape=(2, 2), type='oper', dtype=Dense, isherm=True\n",
       "Qobj data =\n",
       "[[1.54308063+0.j         0.        -1.17520119j]\n",
       " [0.        +1.17520119j 1.54308063+0.j        ]]"
      ]
     },
     "execution_count": 81,
     "metadata": {},
     "output_type": "execute_result"
    }
   ],
   "source": [
    "y.expm()"
   ]
  },
  {
   "cell_type": "code",
   "execution_count": 82,
   "id": "add46b65",
   "metadata": {},
   "outputs": [
    {
     "data": {
      "text/latex": [
       "Quantum object: dims=[[4], [4]], shape=(4, 4), type='oper', dtype=Dense, isherm=False$$\\left(\\begin{array}{cc}1 & 1 & 0.707 & 0.408\\\\0 & 1 & 1.414 & 1.225\\\\0 & 0 & 1 & 1.732\\\\0 & 0 & 0 & 1\\end{array}\\right)$$"
      ],
      "text/plain": [
       "Quantum object: dims=[[4], [4]], shape=(4, 4), type='oper', dtype=Dense, isherm=False\n",
       "Qobj data =\n",
       "[[1.         1.         0.70710678 0.40824829]\n",
       " [0.         1.         1.41421356 1.22474487]\n",
       " [0.         0.         1.         1.73205081]\n",
       " [0.         0.         0.         1.        ]]"
      ]
     },
     "execution_count": 82,
     "metadata": {},
     "output_type": "execute_result"
    }
   ],
   "source": [
    "x.expm()"
   ]
  },
  {
   "cell_type": "code",
   "execution_count": 83,
   "id": "cdd53b5d",
   "metadata": {},
   "outputs": [
    {
     "data": {
      "text/plain": [
       "0j"
      ]
     },
     "execution_count": 83,
     "metadata": {},
     "output_type": "execute_result"
    }
   ],
   "source": [
    "x.tr()"
   ]
  },
  {
   "cell_type": "code",
   "execution_count": 85,
   "id": "5ea8c4e6",
   "metadata": {},
   "outputs": [
    {
     "data": {
      "text/latex": [
       "Quantum object: dims=[[4], [4]], shape=(4, 4), type='oper', dtype=Dia, isherm=False$$\\left(\\begin{array}{cc}0 & 0 & 0 & 0\\\\1 & 0 & 0 & 0\\\\0 & 1.414 & 0 & 0\\\\0 & 0 & 1.732 & 0\\end{array}\\right)$$"
      ],
      "text/plain": [
       "Quantum object: dims=[[4], [4]], shape=(4, 4), type='oper', dtype=Dia, isherm=False\n",
       "Qobj data =\n",
       "[[0.         0.         0.         0.        ]\n",
       " [1.         0.         0.         0.        ]\n",
       " [0.         1.41421356 0.         0.        ]\n",
       " [0.         0.         1.73205081 0.        ]]"
      ]
     },
     "execution_count": 85,
     "metadata": {},
     "output_type": "execute_result"
    }
   ],
   "source": [
    "x.trans()"
   ]
  },
  {
   "cell_type": "code",
   "execution_count": 88,
   "id": "26ade2af",
   "metadata": {},
   "outputs": [],
   "source": [
    "k = basis(2,0) + basis(2,1)"
   ]
  },
  {
   "cell_type": "code",
   "execution_count": 89,
   "id": "635f431a",
   "metadata": {},
   "outputs": [
    {
     "data": {
      "text/latex": [
       "Quantum object: dims=[[2], [1]], shape=(2, 1), type='ket', dtype=Dense$$\\left(\\begin{array}{cc}0.707\\\\0.707\\end{array}\\right)$$"
      ],
      "text/plain": [
       "Quantum object: dims=[[2], [1]], shape=(2, 1), type='ket', dtype=Dense\n",
       "Qobj data =\n",
       "[[0.70710678]\n",
       " [0.70710678]]"
      ]
     },
     "execution_count": 89,
     "metadata": {},
     "output_type": "execute_result"
    }
   ],
   "source": [
    "k.unit()"
   ]
  },
  {
   "cell_type": "code",
   "execution_count": 96,
   "id": "ce73d363",
   "metadata": {},
   "outputs": [
    {
     "data": {
      "text/latex": [
       "Quantum object: dims=[[5], [1]], shape=(5, 1), type='ket', dtype=Dense$$\\left(\\begin{array}{cc}0\\\\0\\\\1\\\\0\\\\0\\end{array}\\right)$$"
      ],
      "text/plain": [
       "Quantum object: dims=[[5], [1]], shape=(5, 1), type='ket', dtype=Dense\n",
       "Qobj data =\n",
       "[[0.]\n",
       " [0.]\n",
       " [1.]\n",
       " [0.]\n",
       " [0.]]"
      ]
     },
     "execution_count": 96,
     "metadata": {},
     "output_type": "execute_result"
    }
   ],
   "source": [
    "v = basis(5,2)\n",
    "a = destroy(5)\n",
    "v"
   ]
  },
  {
   "cell_type": "code",
   "execution_count": 97,
   "id": "e6819ad4",
   "metadata": {},
   "outputs": [
    {
     "data": {
      "text/latex": [
       "Quantum object: dims=[[5], [1]], shape=(5, 1), type='ket', dtype=Dense$$\\left(\\begin{array}{cc}0\\\\1.414\\\\0\\\\0\\\\0\\end{array}\\right)$$"
      ],
      "text/plain": [
       "Quantum object: dims=[[5], [1]], shape=(5, 1), type='ket', dtype=Dense\n",
       "Qobj data =\n",
       "[[0.        ]\n",
       " [1.41421356]\n",
       " [0.        ]\n",
       " [0.        ]\n",
       " [0.        ]]"
      ]
     },
     "execution_count": 97,
     "metadata": {},
     "output_type": "execute_result"
    }
   ],
   "source": [
    "a*v"
   ]
  },
  {
   "cell_type": "code",
   "execution_count": 98,
   "id": "676c9eb5",
   "metadata": {},
   "outputs": [
    {
     "data": {
      "text/latex": [
       "Quantum object: dims=[[5], [1]], shape=(5, 1), type='ket', dtype=Dense$$\\left(\\begin{array}{cc}0\\\\0\\\\0\\\\1.732\\\\0\\end{array}\\right)$$"
      ],
      "text/plain": [
       "Quantum object: dims=[[5], [1]], shape=(5, 1), type='ket', dtype=Dense\n",
       "Qobj data =\n",
       "[[0.        ]\n",
       " [0.        ]\n",
       " [0.        ]\n",
       " [1.73205081]\n",
       " [0.        ]]"
      ]
     },
     "execution_count": 98,
     "metadata": {},
     "output_type": "execute_result"
    }
   ],
   "source": [
    "a.dag()*v"
   ]
  },
  {
   "cell_type": "code",
   "execution_count": 99,
   "id": "c7123232",
   "metadata": {},
   "outputs": [
    {
     "data": {
      "text/latex": [
       "Quantum object: dims=[[3], [3]], shape=(3, 3), type='oper', dtype=Dense, isherm=True$$\\left(\\begin{array}{cc}1 & 0 & 0\\\\0 & 0 & 0\\\\0 & 0 & 0\\end{array}\\right)$$"
      ],
      "text/plain": [
       "Quantum object: dims=[[3], [3]], shape=(3, 3), type='oper', dtype=Dense, isherm=True\n",
       "Qobj data =\n",
       "[[1. 0. 0.]\n",
       " [0. 0. 0.]\n",
       " [0. 0. 0.]]"
      ]
     },
     "execution_count": 99,
     "metadata": {},
     "output_type": "execute_result"
    }
   ],
   "source": [
    "ket1 = basis(3,0)\n",
    "ket1*ket1.dag()"
   ]
  },
  {
   "cell_type": "code",
   "execution_count": 100,
   "id": "e07dc8e7",
   "metadata": {},
   "outputs": [
    {
     "data": {
      "text/latex": [
       "Quantum object: dims=[[3], [3]], shape=(3, 3), type='oper', dtype=Dense, isherm=True$$\\left(\\begin{array}{cc}1 & 0 & 0\\\\0 & 0 & 0\\\\0 & 0 & 0\\end{array}\\right)$$"
      ],
      "text/plain": [
       "Quantum object: dims=[[3], [3]], shape=(3, 3), type='oper', dtype=Dense, isherm=True\n",
       "Qobj data =\n",
       "[[1. 0. 0.]\n",
       " [0. 0. 0.]\n",
       " [0. 0. 0.]]"
      ]
     },
     "execution_count": 100,
     "metadata": {},
     "output_type": "execute_result"
    }
   ],
   "source": [
    "ket2dm(ket1)"
   ]
  },
  {
   "cell_type": "code",
   "execution_count": 102,
   "id": "fb1c8505",
   "metadata": {},
   "outputs": [
    {
     "data": {
      "text/latex": [
       "Quantum object: dims=[[2], [2]], shape=(2, 2), type='oper', dtype=Dense, isherm=True$$\\left(\\begin{array}{cc}1 & 1\\\\1 & 1\\end{array}\\right)$$"
      ],
      "text/plain": [
       "Quantum object: dims=[[2], [2]], shape=(2, 2), type='oper', dtype=Dense, isherm=True\n",
       "Qobj data =\n",
       "[[1. 1.]\n",
       " [1. 1.]]"
      ]
     },
     "execution_count": 102,
     "metadata": {},
     "output_type": "execute_result"
    }
   ],
   "source": [
    "ket2 = basis(2,0) + basis(2,1)\n",
    "ket2dm(ket2)"
   ]
  },
  {
   "cell_type": "code",
   "execution_count": 103,
   "id": "350319bd",
   "metadata": {},
   "outputs": [
    {
     "data": {
      "text/plain": [
       "2.0"
      ]
     },
     "execution_count": 103,
     "metadata": {},
     "output_type": "execute_result"
    }
   ],
   "source": [
    "ket2dm(ket2).tr()"
   ]
  },
  {
   "cell_type": "code",
   "execution_count": 104,
   "id": "325ca38a",
   "metadata": {},
   "outputs": [
    {
     "data": {
      "text/latex": [
       "Quantum object: dims=[[2], [2]], shape=(2, 2), type='oper', dtype=Dense, isherm=True$$\\left(\\begin{array}{cc}0.500 & 0.500\\\\0.500 & 0.500\\end{array}\\right)$$"
      ],
      "text/plain": [
       "Quantum object: dims=[[2], [2]], shape=(2, 2), type='oper', dtype=Dense, isherm=True\n",
       "Qobj data =\n",
       "[[0.5 0.5]\n",
       " [0.5 0.5]]"
      ]
     },
     "execution_count": 104,
     "metadata": {},
     "output_type": "execute_result"
    }
   ],
   "source": [
    "ket2dm(ket2.unit())"
   ]
  },
  {
   "cell_type": "code",
   "execution_count": 105,
   "id": "9748c41b",
   "metadata": {},
   "outputs": [
    {
     "data": {
      "text/plain": [
       "0.9999999999999998"
      ]
     },
     "execution_count": 105,
     "metadata": {},
     "output_type": "execute_result"
    }
   ],
   "source": [
    "ket2dm(ket2.unit()).tr()"
   ]
  },
  {
   "cell_type": "code",
   "execution_count": 107,
   "id": "a3d7a442",
   "metadata": {},
   "outputs": [
    {
     "data": {
      "text/plain": [
       "(1.0, -1.0)"
      ]
     },
     "execution_count": 107,
     "metadata": {},
     "output_type": "execute_result"
    }
   ],
   "source": [
    "u = basis(2,0)\n",
    "d = basis(2,1)\n",
    "\n",
    "expect(sigmaz(),u),expect(sigmaz(),d)"
   ]
  },
  {
   "cell_type": "code",
   "execution_count": 111,
   "id": "90cf53f8",
   "metadata": {},
   "outputs": [
    {
     "data": {
      "text/latex": [
       "Quantum object: dims=[[2, 2], [2, 2]], shape=(4, 4), type='oper', dtype=CSR, isherm=True$$\\left(\\begin{array}{cc}1 & 0 & 0 & 0\\\\0 & 1 & 0 & 0\\\\0 & 0 & -1 & 0\\\\0 & 0 & 0 & -1\\end{array}\\right)$$"
      ],
      "text/plain": [
       "Quantum object: dims=[[2, 2], [2, 2]], shape=(4, 4), type='oper', dtype=CSR, isherm=True\n",
       "Qobj data =\n",
       "[[ 1.  0.  0.  0.]\n",
       " [ 0.  1.  0.  0.]\n",
       " [ 0.  0. -1.  0.]\n",
       " [ 0.  0.  0. -1.]]"
      ]
     },
     "execution_count": 111,
     "metadata": {},
     "output_type": "execute_result"
    }
   ],
   "source": [
    "sz = tensor(sigmaz(),qeye(2))\n",
    "sz"
   ]
  },
  {
   "cell_type": "code",
   "execution_count": 112,
   "id": "45376c8b",
   "metadata": {},
   "outputs": [
    {
     "data": {
      "text/latex": [
       "Quantum object: dims=[[2, 2], [1, 1]], shape=(4, 1), type='ket', dtype=Dense$$\\left(\\begin{array}{cc}0\\\\1\\\\0\\\\0\\end{array}\\right)$$"
      ],
      "text/plain": [
       "Quantum object: dims=[[2, 2], [1, 1]], shape=(4, 1), type='ket', dtype=Dense\n",
       "Qobj data =\n",
       "[[0.]\n",
       " [1.]\n",
       " [0.]\n",
       " [0.]]"
      ]
     },
     "execution_count": 112,
     "metadata": {},
     "output_type": "execute_result"
    }
   ],
   "source": [
    "tensor(basis(2,0),basis(2,1))"
   ]
  },
  {
   "cell_type": "code",
   "execution_count": 117,
   "id": "4725afe8",
   "metadata": {},
   "outputs": [
    {
     "data": {
      "text/latex": [
       "Quantum object: dims=[[5, 2], [5, 2]], shape=(10, 10), type='oper', dtype=CSR, isherm=False$$\\left(\\begin{array}{cc}-0.500 & 0 & 0 & 0 & 0 & 0 & 0 & 0 & 0 & 0\\\\0.100 & 0.500 & 0 & 0 & 0 & 0 & 0 & 0 & 0 & 0\\\\0 & 0.100 & 0.500 & 0 & 0 & 0 & 0 & 0 & 0 & 0\\\\0 & 0 & 0.100 & 1.500 & 0 & 0 & 0 & 0 & 0 & 0\\\\0 & 0 & 0 & 0.141 & 1.500 & 0 & 0 & 0 & 0 & 0\\\\0 & 0 & 0 & 0 & 0.100 & 2.500 & 0 & 0 & 0 & 0\\\\0 & 0 & 0 & 0 & 0 & 0.173 & 2.500 & 0 & 0 & 0\\\\0 & 0 & 0 & 0 & 0 & 0 & 0.100 & 3.500 & 0 & 0\\\\0 & 0 & 0 & 0 & 0 & 0 & 0 & 0.200 & 3.500 & 0\\\\0 & 0 & 0 & 0 & 0 & 0 & 0 & 0 & 0.100 & 4.500\\end{array}\\right)$$"
      ],
      "text/plain": [
       "Quantum object: dims=[[5, 2], [5, 2]], shape=(10, 10), type='oper', dtype=CSR, isherm=False\n",
       "Qobj data =\n",
       "[[-0.5         0.          0.          0.          0.          0.\n",
       "   0.          0.          0.          0.        ]\n",
       " [ 0.1         0.5         0.          0.          0.          0.\n",
       "   0.          0.          0.          0.        ]\n",
       " [ 0.          0.1         0.5         0.          0.          0.\n",
       "   0.          0.          0.          0.        ]\n",
       " [ 0.          0.          0.1         1.5         0.          0.\n",
       "   0.          0.          0.          0.        ]\n",
       " [ 0.          0.          0.          0.14142136  1.5         0.\n",
       "   0.          0.          0.          0.        ]\n",
       " [ 0.          0.          0.          0.          0.1         2.5\n",
       "   0.          0.          0.          0.        ]\n",
       " [ 0.          0.          0.          0.          0.          0.17320508\n",
       "   2.5         0.          0.          0.        ]\n",
       " [ 0.          0.          0.          0.          0.          0.\n",
       "   0.1         3.5         0.          0.        ]\n",
       " [ 0.          0.          0.          0.          0.          0.\n",
       "   0.          0.2         3.5         0.        ]\n",
       " [ 0.          0.          0.          0.          0.          0.\n",
       "   0.          0.          0.1         4.5       ]]"
      ]
     },
     "execution_count": 117,
     "metadata": {},
     "output_type": "execute_result"
    }
   ],
   "source": [
    "wc ,wa , g = 1 ,1 ,0.1\n",
    "\n",
    "a = tensor(destroy(5),qeye(2))\n",
    "sz = tensor(qeye(5),sigmaz())\n",
    "sn = tensor(qeye(5),destroy(2))\n",
    "\n",
    "H = wc*a.dag()*a - (1/2)*wa*sz + g*(sn.dag()+a.dag()*sn) \n",
    "H"
   ]
  },
  {
   "cell_type": "code",
   "execution_count": 118,
   "id": "e70f4857",
   "metadata": {},
   "outputs": [
    {
     "data": {
      "text/latex": [
       "Quantum object: dims=[[2, 2], [1, 1]], shape=(4, 1), type='ket', dtype=Dense$$\\left(\\begin{array}{cc}0\\\\1\\\\0\\\\0\\end{array}\\right)$$"
      ],
      "text/plain": [
       "Quantum object: dims=[[2, 2], [1, 1]], shape=(4, 1), type='ket', dtype=Dense\n",
       "Qobj data =\n",
       "[[0.]\n",
       " [1.]\n",
       " [0.]\n",
       " [0.]]"
      ]
     },
     "execution_count": 118,
     "metadata": {},
     "output_type": "execute_result"
    }
   ],
   "source": [
    "psy = tensor(basis(2,0),basis(2,1))\n",
    "psy"
   ]
  },
  {
   "cell_type": "code",
   "execution_count": 122,
   "id": "18edef06",
   "metadata": {},
   "outputs": [
    {
     "data": {
      "text/latex": [
       "Quantum object: dims=[[2], [2]], shape=(2, 2), type='oper', dtype=Dense, isherm=True$$\\left(\\begin{array}{cc}1 & 0\\\\0 & 0\\end{array}\\right)$$"
      ],
      "text/plain": [
       "Quantum object: dims=[[2], [2]], shape=(2, 2), type='oper', dtype=Dense, isherm=True\n",
       "Qobj data =\n",
       "[[1. 0.]\n",
       " [0. 0.]]"
      ]
     },
     "execution_count": 122,
     "metadata": {},
     "output_type": "execute_result"
    }
   ],
   "source": [
    "psy.ptrace(0)#first system density matrix"
   ]
  },
  {
   "cell_type": "code",
   "execution_count": 121,
   "id": "135e8248",
   "metadata": {},
   "outputs": [
    {
     "data": {
      "text/latex": [
       "Quantum object: dims=[[2], [2]], shape=(2, 2), type='oper', dtype=Dense, isherm=True$$\\left(\\begin{array}{cc}0 & 0\\\\0 & 1\\end{array}\\right)$$"
      ],
      "text/plain": [
       "Quantum object: dims=[[2], [2]], shape=(2, 2), type='oper', dtype=Dense, isherm=True\n",
       "Qobj data =\n",
       "[[0. 0.]\n",
       " [0. 1.]]"
      ]
     },
     "execution_count": 121,
     "metadata": {},
     "output_type": "execute_result"
    }
   ],
   "source": [
    "psy.ptrace(1)#second system density matrix"
   ]
  },
  {
   "cell_type": "code",
   "execution_count": 127,
   "id": "b9cf6728",
   "metadata": {},
   "outputs": [
    {
     "data": {
      "text/plain": [
       "[Quantum object: dims=[[2], [1]], shape=(2, 1), type='ket', dtype=Dense\n",
       " Qobj data =\n",
       " [[1.]\n",
       "  [0.]],\n",
       " Quantum object: dims=[[2], [1]], shape=(2, 1), type='ket', dtype=Dense\n",
       " Qobj data =\n",
       " [[-1.14296989e-06-1.j]\n",
       "  [ 0.00000000e+00+0.j]],\n",
       " Quantum object: dims=[[2], [1]], shape=(2, 1), type='ket', dtype=Dense\n",
       " Qobj data =\n",
       " [[-1.+3.72769862e-06j]\n",
       "  [ 0.+0.00000000e+00j]],\n",
       " Quantum object: dims=[[2], [1]], shape=(2, 1), type='ket', dtype=Dense\n",
       " Qobj data =\n",
       " [[6.25459445e-06+1.j]\n",
       "  [0.00000000e+00+0.j]],\n",
       " Quantum object: dims=[[2], [1]], shape=(2, 1), type='ket', dtype=Dense\n",
       " Qobj data =\n",
       " [[1.-8.17586848e-06j]\n",
       "  [0.+0.00000000e+00j]]]"
      ]
     },
     "execution_count": 127,
     "metadata": {},
     "output_type": "execute_result"
    }
   ],
   "source": [
    "H = 2*np.pi*0.1*sigmaz()\n",
    "psy = basis(2,0)\n",
    "t = np.linspace(0,10,5)\n",
    "\n",
    "r = sesolve(H,psy,t)\n",
    "r.states"
   ]
  },
  {
   "cell_type": "code",
   "execution_count": 128,
   "id": "c3efecbd",
   "metadata": {},
   "outputs": [
    {
     "data": {
      "text/plain": [
       "[array([1., 1., 1., 1., 1.]), array([0., 0., 0., 0., 0.])]"
      ]
     },
     "execution_count": 128,
     "metadata": {},
     "output_type": "execute_result"
    }
   ],
   "source": [
    "r = sesolve(H,psy,t,[sigmaz(),sigmay()])\n",
    "r.expect"
   ]
  },
  {
   "cell_type": "code",
   "execution_count": 133,
   "id": "22ae8a00",
   "metadata": {},
   "outputs": [
    {
     "data": {
      "image/png": "[encoded data removed]",
      "text/plain": [
       "<Figure size 432x288 with 1 Axes>"
      ]
     },
     "metadata": {
      "needs_background": "light"
     },
     "output_type": "display_data"
    }
   ],
   "source": [
    "plt.title('Expectation value evolution')\n",
    "plt.plot(t,r.expect[0],label='sigma(z)')\n",
    "plt.plot(t,r.expect[1],label='sigma(y)')\n",
    "plt.xlabel('Time')\n",
    "plt.ylabel('Expectation value')\n",
    "plt.legend()\n",
    "plt.show()"
   ]
  },
  {
   "cell_type": "code",
   "execution_count": 146,
   "id": "0bf73ff8",
   "metadata": {},
   "outputs": [],
   "source": [
    "H = 2*np.pi*0.1*sigmax()\n",
    "psy = basis(2,0)\n",
    "t = np.linspace(0,10,100)"
   ]
  },
  {
   "cell_type": "code",
   "execution_count": 147,
   "id": "cadd295e",
   "metadata": {},
   "outputs": [],
   "source": [
    "r1 = sesolve(H,psy,t,[sigmaz(),sigmay()])"
   ]
  },
  {
   "cell_type": "code",
   "execution_count": 148,
   "id": "161b6048",
   "metadata": {},
   "outputs": [
    {
     "data": {
      "image/png": "[encoded data removed]",
      "text/plain": [
       "<Figure size 432x288 with 1 Axes>"
      ]
     },
     "metadata": {
      "needs_background": "light"
     },
     "output_type": "display_data"
    }
   ],
   "source": [
    "plt.title('Expectation value evolution')\n",
    "plt.plot(t,r1.expect[0],label='sigma(z)')\n",
    "plt.plot(t,r1.expect[1],label='sigma(y)')\n",
    "plt.xlabel('Time')\n",
    "plt.ylabel('Expectation value')\n",
    "plt.legend()\n",
    "plt.show()"
   ]
  },
  {
   "cell_type": "code",
   "execution_count": 153,
   "id": "5442ad20",
   "metadata": {},
   "outputs": [
    {
     "data": {
      "text/plain": [
       "[Quantum object: dims=[[2], [1]], shape=(2, 1), type='ket', dtype=Dense\n",
       " Qobj data =\n",
       " [[1.]\n",
       "  [1.]],\n",
       " Quantum object: dims=[[2], [1]], shape=(2, 1), type='ket', dtype=Dense\n",
       " Qobj data =\n",
       " [[0.86466363-0.50235103j]\n",
       "  [0.86466363+0.50235103j]],\n",
       " Quantum object: dims=[[2], [1]], shape=(2, 1), type='ket', dtype=Dense\n",
       " Qobj data =\n",
       " [[0.49528627-0.86872954j]\n",
       "  [0.49528627+0.86872954j]],\n",
       " Quantum object: dims=[[2], [1]], shape=(2, 1), type='ket', dtype=Dense\n",
       " Qobj data =\n",
       " [[-0.00815185-0.99996647j]\n",
       "  [-0.00815185+0.99996647j]],\n",
       " Quantum object: dims=[[2], [1]], shape=(2, 1), type='ket', dtype=Dense\n",
       " Qobj data =\n",
       " [[-0.50938282-0.86053941j]\n",
       "  [-0.50938282+0.86053941j]],\n",
       " Quantum object: dims=[[2], [1]], shape=(2, 1), type='ket', dtype=Dense\n",
       " Qobj data =\n",
       " [[-0.87273744-0.48818813j]\n",
       "  [-0.87273744+0.48818813j]],\n",
       " Quantum object: dims=[[2], [1]], shape=(2, 1), type='ket', dtype=Dense\n",
       " Qobj data =\n",
       " [[-0.99986589+0.01630183j]\n",
       "  [-0.99986589-0.01630183j]],\n",
       " Quantum object: dims=[[2], [1]], shape=(2, 1), type='ket', dtype=Dense\n",
       " Qobj data =\n",
       " [[-0.85635856+0.51637904j]\n",
       "  [-0.85635856-0.51637904j]],\n",
       " Quantum object: dims=[[2], [1]], shape=(2, 1), type='ket', dtype=Dense\n",
       " Qobj data =\n",
       " [[-0.48105826+0.87668688j]\n",
       "  [-0.48105826-0.87668688j]],\n",
       " Quantum object: dims=[[2], [1]], shape=(2, 1), type='ket', dtype=Dense\n",
       " Qobj data =\n",
       " [[0.02445056+0.99969952j]\n",
       "  [0.02445056-0.99969952j]],\n",
       " Quantum object: dims=[[2], [1]], shape=(2, 1), type='ket', dtype=Dense\n",
       " Qobj data =\n",
       " [[0.52334136+0.85212115j]\n",
       "  [0.52334136-0.85212115j]],\n",
       " Quantum object: dims=[[2], [1]], shape=(2, 1), type='ket', dtype=Dense\n",
       " Qobj data =\n",
       " [[0.88057807+0.47389693j]\n",
       "  [0.88057807-0.47389693j]],\n",
       " Quantum object: dims=[[2], [1]], shape=(2, 1), type='ket', dtype=Dense\n",
       " Qobj data =\n",
       " [[0.99946676-0.03259768j]\n",
       "  [0.99946676+0.03259768j]],\n",
       " Quantum object: dims=[[2], [1]], shape=(2, 1), type='ket', dtype=Dense\n",
       " Qobj data =\n",
       " [[0.8478271-0.5302689j]\n",
       "  [0.8478271+0.5302689j]],\n",
       " Quantum object: dims=[[2], [1]], shape=(2, 1), type='ket', dtype=Dense\n",
       " Qobj data =\n",
       " [[0.46670404-0.8844109j]\n",
       "  [0.46670404+0.8844109j]],\n",
       " Quantum object: dims=[[2], [1]], shape=(2, 1), type='ket', dtype=Dense\n",
       " Qobj data =\n",
       " [[-0.0407426-0.99916746j]\n",
       "  [-0.0407426+0.99916746j]],\n",
       " Quantum object: dims=[[2], [1]], shape=(2, 1), type='ket', dtype=Dense\n",
       " Qobj data =\n",
       " [[-0.53716122-0.8434768j]\n",
       "  [-0.53716122+0.8434768j]],\n",
       " Quantum object: dims=[[2], [1]], shape=(2, 1), type='ket', dtype=Dense\n",
       " Qobj data =\n",
       " [[-0.88818507-0.45948001j]\n",
       "  [-0.88818507+0.45948001j]],\n",
       " Quantum object: dims=[[2], [1]], shape=(2, 1), type='ket', dtype=Dense\n",
       " Qobj data =\n",
       " [[-0.99880168+0.04888484j]\n",
       "  [-0.99880168-0.04888484j]],\n",
       " Quantum object: dims=[[2], [1]], shape=(2, 1), type='ket', dtype=Dense\n",
       " Qobj data =\n",
       " [[-0.83907014+0.54401738j]\n",
       "  [-0.83907014-0.54401738j]]]"
      ]
     },
     "execution_count": 153,
     "metadata": {},
     "output_type": "execute_result"
    }
   ],
   "source": [
    "H = sigmaz()\n",
    "psy = basis(2,0) + basis(2,1)\n",
    "t = np.linspace(0,10,20)\n",
    "\n",
    "r = mesolve(H,psy,t)\n",
    "r.states"
   ]
  },
  {
   "cell_type": "code",
   "execution_count": 161,
   "id": "5dc4dddd",
   "metadata": {},
   "outputs": [
    {
     "name": "stdout",
     "output_type": "stream",
     "text": [
      "[Quantum object: dims=[[2], [2]], shape=(2, 2), type='oper', dtype=CSR, isherm=True\n",
      "Qobj data =\n",
      "[[ 1.  0.]\n",
      " [ 0. -1.]], [Quantum object: dims=[[2], [2]], shape=(2, 2), type='oper', dtype=CSR, isherm=True\n",
      "Qobj data =\n",
      "[[0. 1.]\n",
      " [1. 0.]], <function hlc at 0x0000014E4BEEF160>]]\n"
     ]
    }
   ],
   "source": [
    "H0 = sigmaz()\n",
    "H1 = sigmax()\n",
    "psy = basis(2,0) + basis(2,1)\n",
    "t = np.linspace(0,10,5)\n",
    "\n",
    "def hlc(t,args):\n",
    "    return args['A']*np.exp(-(t/args['sigma'])**2)\n",
    "\n",
    "H = [H0 , [H1,hlc]] \n",
    "print(H)"
   ]
  },
  {
   "cell_type": "code",
   "execution_count": 162,
   "id": "f41ab9b0",
   "metadata": {},
   "outputs": [
    {
     "data": {
      "text/plain": [
       "[Quantum object: dims=[[2], [1]], shape=(2, 1), type='ket', dtype=Dense\n",
       " Qobj data =\n",
       " [[1.]\n",
       "  [1.]],\n",
       " Quantum object: dims=[[2], [1]], shape=(2, 1), type='ket', dtype=Dense\n",
       " Qobj data =\n",
       " [[-0.52387881+1.23869469j]\n",
       "  [-0.42793981-0.08974622j]],\n",
       " Quantum object: dims=[[2], [1]], shape=(2, 1), type='ket', dtype=Dense\n",
       " Qobj data =\n",
       " [[1.20533334-0.6749945j ]\n",
       "  [0.29867747+0.04843571j]],\n",
       " Quantum object: dims=[[2], [1]], shape=(2, 1), type='ket', dtype=Dense\n",
       " Qobj data =\n",
       " [[-1.36996565-0.18054073j]\n",
       "  [-0.26666656+0.1396007j ]],\n",
       " Quantum object: dims=[[2], [1]], shape=(2, 1), type='ket', dtype=Dense\n",
       " Qobj data =\n",
       " [[0.98949068+0.96452524j]\n",
       "  [0.13009071-0.27143302j]]]"
      ]
     },
     "execution_count": 162,
     "metadata": {},
     "output_type": "execute_result"
    }
   ],
   "source": [
    "q = mesolve(H,psy,t,args={'A':2,'sigma':2})\n",
    "q.states"
   ]
  },
  {
   "cell_type": "code",
   "execution_count": 182,
   "id": "ef23d884",
   "metadata": {},
   "outputs": [],
   "source": [
    "H = sigmax()\n",
    "psy = basis(2,0)\n",
    "t = np.linspace(0,10,100)\n",
    "\n",
    "r2 = mesolve(H,psy,t,[np.sqrt(0.5)*sigmaz()],[sigmaz(),sigmay()])"
   ]
  },
  {
   "cell_type": "code",
   "execution_count": 183,
   "id": "74029836",
   "metadata": {},
   "outputs": [
    {
     "data": {
      "image/png": "[encoded data removed]",
      "text/plain": [
       "<Figure size 432x288 with 1 Axes>"
      ]
     },
     "metadata": {
      "needs_background": "light"
     },
     "output_type": "display_data"
    }
   ],
   "source": [
    "plt.title('Expectation value in non- unitary evolution ')\n",
    "plt.plot(t,r2.expect[0],label='sigma(z)')\n",
    "plt.plot(t,r2.expect[1],label='sigma(y)')\n",
    "plt.xlabel('Time')\n",
    "plt.ylabel('Expectation value')\n",
    "plt.legend()\n",
    "plt.show()"
   ]
  },
  {
   "cell_type": "code",
   "execution_count": 187,
   "id": "30a21be1",
   "metadata": {},
   "outputs": [
    {
     "data": {
      "image/png": "[encoded data removed]",
      "text/plain": [
       "<Figure size 432x288 with 1 Axes>"
      ]
     },
     "metadata": {
      "needs_background": "light"
     },
     "output_type": "display_data"
    },
    {
     "data": {
      "image/png": "[encoded data removed]",
      "text/plain": [
       "<Figure size 432x288 with 1 Axes>"
      ]
     },
     "metadata": {
      "needs_background": "light"
     },
     "output_type": "display_data"
    },
    {
     "data": {
      "image/png": "[encoded data removed]",
      "text/plain": [
       "<Figure size 432x288 with 1 Axes>"
      ]
     },
     "metadata": {
      "needs_background": "light"
     },
     "output_type": "display_data"
    },
    {
     "data": {
      "image/png": "[encoded data removed]",
      "text/plain": [
       "<Figure size 432x288 with 1 Axes>"
      ]
     },
     "metadata": {
      "needs_background": "light"
     },
     "output_type": "display_data"
    },
    {
     "data": {
      "image/png": "[encoded data removed]",
      "text/plain": [
       "<Figure size 432x288 with 1 Axes>"
      ]
     },
     "metadata": {
      "needs_background": "light"
     },
     "output_type": "display_data"
    },
    {
     "data": {
      "image/png": "[encoded data removed]",
      "text/plain": [
       "<Figure size 432x288 with 1 Axes>"
      ]
     },
     "metadata": {
      "needs_background": "light"
     },
     "output_type": "display_data"
    },
    {
     "data": {
      "image/png": "[encoded data removed]",
      "text/plain": [
       "<Figure size 432x288 with 1 Axes>"
      ]
     },
     "metadata": {
      "needs_background": "light"
     },
     "output_type": "display_data"
    },
    {
     "data": {
      "image/png": "[encoded data removed]",
      "text/plain": [
       "<Figure size 432x288 with 1 Axes>"
      ]
     },
     "metadata": {
      "needs_background": "light"
     },
     "output_type": "display_data"
    },
    {
     "data": {
      "image/png": "[encoded data removed]",
      "text/plain": [
       "<Figure size 432x288 with 1 Axes>"
      ]
     },
     "metadata": {
      "needs_background": "light"
     },
     "output_type": "display_data"
    }
   ],
   "source": [
    "gama=[0,0.1,0.2,0.3,0.5,0.8,1,2,3]\n",
    "for i in gama :\n",
    "    r2 = mesolve(H,psy,t,[np.sqrt(i)*sigmaz()],[sigmaz(),sigmay()])\n",
    "    plt.title('Expectation value in non- unitary evolution'+' | gama : '+str(i))\n",
    "    plt.plot(t,r2.expect[0],label='sigma(z)')\n",
    "    plt.plot(t,r2.expect[1],label='sigma(y)')\n",
    "    plt.xlabel('Time')\n",
    "    plt.ylabel('Expectation value')\n",
    "    plt.legend()\n",
    "    plt.show()"
   ]
  },
  {
   "cell_type": "code",
   "execution_count": null,
   "id": "5646c4e8",
   "metadata": {},
   "outputs": [],
   "source": []
  }
 ],
 "metadata": {
  "kernelspec": {
   "display_name": "Python 3 (ipykernel)",
   "language": "python",
   "name": "python3"
  },
  "language_info": {
   "codemirror_mode": {
    "name": "ipython",
    "version": 3
   },
   "file_extension": ".py",
   "mimetype": "text/x-python",
   "name": "python",
   "nbconvert_exporter": "python",
   "pygments_lexer": "ipython3",
   "version": "3.9.7"
  }
 },
 "nbformat": 4,
 "nbformat_minor": 5
}
